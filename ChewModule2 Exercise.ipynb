{
 "cells": [
  {
   "cell_type": "markdown",
   "metadata": {},
   "source": [
    "## Exercises\n",
    "### Write the pseudocode for these problems. \n",
    "\n",
    "#### Define the problem by constructing an IPO diagram showing input, output, and processing steps\n",
    "Ask yourself\n",
    "- What control structures (sequence, selection and repetition) are required?\n",
    "- What variables are required?\n",
    "\n",
    "Show a check of your solution with **test data** for at least **two valid test cases**\n",
    "If you use the numbers provided in the example then the correct pseudocode will calculate the same result.\n",
    "    "
   ]
  },
  {
   "cell_type": "markdown",
   "metadata": {},
   "source": [
    "#### 1. Find the average score\n",
    "A program is needed to prompt the user operator for exam scores, calculate the average score and display the result to the screen. The average score is calculated as the sum of the scores divided by the number of scores."
   ]
  },
  {
   "cell_type": "code",
   "execution_count": null,
   "metadata": {},
   "outputs": [],
   "source": [
    "                 Input = Exam Scores\n",
    "                 Process = Add Exam Scores, Obtain SUM. Divide SUM by number of Scores\n",
    "                 Output - Average \n",
    "                 \n",
    "BEGIN\n",
    "\n",
    "   \n",
    "                PROMPT \n",
    "                    Score1, Score2, Score3\n",
    "                    Average = (Score1 + Score2 + Score3)/3\n",
    "                 PRINT\n",
    "                    Average\n",
    "\n",
    "            \n",
    "\n",
    "END"
   ]
  },
  {
   "cell_type": "markdown",
   "metadata": {},
   "source": [
    "#### 2. How much water runs off a roof in a rain storm?\n",
    "To calculate the runoff from any given rainfall: Take the dimensions of the footprint of the roof and convert them to inches. (So, a 50' x 20' roof is 600\" x 240\"). Multiply the roof dimensions by the number of inches of rainfall. As an example, 600\" x 240\" x 1\" = 144,000 cubic inches of water for an inch of rainfall. Divide that result by 231 to get the number of gallons (because 1 gallon = 231 cubic inches). (144,000/231 = 623.38)."
   ]
  },
  {
   "cell_type": "code",
   "execution_count": null,
   "metadata": {},
   "outputs": [],
   "source": [
    "Input = Roof dimensions\n",
    "Process = MULTIPLY TO CONVERT FEET TO INCHES\n",
    "          MULTIPLY RESULT BY INCHES OF RAINFALL\n",
    "          DIVIDE RESULT BY 231 \n",
    "          \n",
    "Output: GALLONS PER CUBIC INCH\n",
    "\n",
    "BEGIN\n",
    "        PROMPT\n",
    "            Roof length, Roof width\n",
    "            MULTIPLY Roof length by roof width to obtain dimensions\n",
    "        PRINT \n",
    "            Dimensions\n",
    "            \n",
    "        Multiply \n",
    "            Dimensions by number of inches of rainfall to obtain cubic rainfall\n",
    "\n",
    "        PRINT \n",
    "            cubic rainfall\n",
    "        DIVID \n",
    "            cubic rainfall by 231\n",
    "        PRIINT\n",
    "            ainfall in gallons\n",
    "END    "
   ]
  },
  {
   "cell_type": "markdown",
   "metadata": {},
   "source": [
    "#### 3. Process customer record\n",
    "A program is required to read a customer’s name, a purchase amount and a tax code. The tax code has been validated and will be one of the following: 0 tax exempt (0%) 1 state sales tax only (3%) 2 federal and state sales tax (5%) 3 special sales tax (7%) The program must then compute the sales tax and the total amount due,and print the customer’s name, purchase amount, sales tax and total amount due."
   ]
  },
  {
   "cell_type": "code",
   "execution_count": null,
   "metadata": {},
   "outputs": [],
   "source": [
    "BEGIN\n",
    "\n",
    "    PROMPT\n",
    "        CUSTOMER NAME\n",
    "        PURCHASE AMOUNT\n",
    "        TAX CODE\n",
    "    MULTIPLY \n",
    "        PURCHASE AMOUNT * TAX CODE = SALES TAX\n",
    "    ADD \n",
    "        PURCHASE AMOUNT + SALES TAX = TOTAL AMOUNT DUE\n",
    "    PRINT \n",
    "        CUSTOMER NAME, PURCHASE AMOUNT, SALES TAX TOTAL AMOUNT DUE"
   ]
  },
  {
   "cell_type": "markdown",
   "metadata": {},
   "source": [
    "#### 4. Calculate employee's pay \n",
    "A program is required by a company to read an employee’s number, pay rate and the number of hours worked in a week. The program is then to validate the pay rate field and the hours worked field and, if valid, compute the employee’s weekly pay and then print it and the input data.\n",
    "\n",
    "Validation: According to the company’s rules, the maximum hours an employee can work per week is 60 hours, and the maximum hourly rate is $25.00 per hour. If the hours worked field or the hourly rate field is out of range, the input data and an appropriate message are to be printed and the employee’s weekly pay is not to be calculated.\n",
    "\n",
    "Weekly pay calculation: Weekly pay is calculated as hours worked times pay rate. If more than 35 hours are worked, payment for the overtime hours worked is calculated at time-and-a-half."
   ]
  },
  {
   "cell_type": "code",
   "execution_count": null,
   "metadata": {},
   "outputs": [],
   "source": [
    "INPUT: Employee number, Pay Rate, Number of hours\n",
    "    \n",
    "PROCESS: Verify pay rate, hours worked, calculate pay\n",
    "OUTPUT: Print pay\n",
    "BEGIN\n",
    "    PROMPT\n",
    "        Employee number, Employee pay rate, employee hours\n",
    "        \n",
    "        \n",
    "    VALIDATE \n",
    "        pay rate field => 25\n",
    "   \n",
    "    VALIDATE \n",
    "        HOURS =>60\n",
    "        \n",
    "                    If out of range\n",
    "    \n",
    "                        PRINT \n",
    "                        pay rate out of range\n",
    "        \n",
    "\n",
    "                        PRINT\n",
    "                        hours out range\n",
    "    \n",
    "    ELSE\n",
    "        \n",
    "    Multiply \n",
    "        weekly pay = pay rate * hours =>35 \n",
    "        overtime = (pay rate * 1.5) * hours <35  \n",
    "    \n",
    "    Calculate \n",
    "        weekly pay.\n",
    "    PRINT\n",
    "        Employee number, pay rate, hours weorked weekly pay, overtime pay. \n",
    "\n",
    "    \n",
    "END"
   ]
  }
 ],
 "metadata": {
  "kernelspec": {
   "display_name": "Python 3 (ipykernel)",
   "language": "python",
   "name": "python3"
  },
  "language_info": {
   "codemirror_mode": {
    "name": "ipython",
    "version": 3
   },
   "file_extension": ".py",
   "mimetype": "text/x-python",
   "name": "python",
   "nbconvert_exporter": "python",
   "pygments_lexer": "ipython3",
   "version": "3.9.12"
  }
 },
 "nbformat": 4,
 "nbformat_minor": 2
}
